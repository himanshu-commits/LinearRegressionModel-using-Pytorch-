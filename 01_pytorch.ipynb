{
  "nbformat": 4,
  "nbformat_minor": 0,
  "metadata": {
    "colab": {
      "provenance": []
    },
    "kernelspec": {
      "name": "python3",
      "display_name": "Python 3"
    },
    "language_info": {
      "name": "python"
    }
  },
  "cells": [
    {
      "cell_type": "code",
      "execution_count": null,
      "metadata": {
        "id": "NU8eyR4sHT_1"
      },
      "outputs": [],
      "source": [
        "import torch\n",
        "from torch import nn\n",
        "import matplotlib.pyplot as plt"
      ]
    },
    {
      "cell_type": "code",
      "source": [
        "weight = 0.7\n",
        "bias = 0.3\n",
        "start = 0\n",
        "end = 1\n",
        "step = 0.02\n",
        "X = torch.arange(start,end,step).unsqueeze(dim=1)\n",
        "y = weight * X + bias\n",
        "\n",
        "X[:10] , y[:10]\n"
      ],
      "metadata": {
        "colab": {
          "base_uri": "https://localhost:8080/"
        },
        "id": "aHcUPtwzHevW",
        "outputId": "9a506dfe-457d-47d0-9a6c-4bbaf4aa1687"
      },
      "execution_count": null,
      "outputs": [
        {
          "output_type": "execute_result",
          "data": {
            "text/plain": [
              "(tensor([[0.0000],\n",
              "         [0.0200],\n",
              "         [0.0400],\n",
              "         [0.0600],\n",
              "         [0.0800],\n",
              "         [0.1000],\n",
              "         [0.1200],\n",
              "         [0.1400],\n",
              "         [0.1600],\n",
              "         [0.1800]]),\n",
              " tensor([[0.3000],\n",
              "         [0.3140],\n",
              "         [0.3280],\n",
              "         [0.3420],\n",
              "         [0.3560],\n",
              "         [0.3700],\n",
              "         [0.3840],\n",
              "         [0.3980],\n",
              "         [0.4120],\n",
              "         [0.4260]]))"
            ]
          },
          "metadata": {},
          "execution_count": 89
        }
      ]
    },
    {
      "cell_type": "code",
      "source": [
        "len(X) , len(y)"
      ],
      "metadata": {
        "colab": {
          "base_uri": "https://localhost:8080/"
        },
        "id": "hb7Mlh2WMWpG",
        "outputId": "8518726f-c3fe-4b72-856f-f3bab478d781"
      },
      "execution_count": null,
      "outputs": [
        {
          "output_type": "execute_result",
          "data": {
            "text/plain": [
              "(50, 50)"
            ]
          },
          "metadata": {},
          "execution_count": 90
        }
      ]
    },
    {
      "cell_type": "code",
      "source": [
        "train_split = int(0.8 * len(X))\n",
        "X_train , y_train = X[:train_split] , y[:train_split]\n",
        "X_test , y_test = X[train_split:] , y[train_split:]\n",
        "len(X_train) , len(y_train) , len(X_test) , len(y_test)"
      ],
      "metadata": {
        "colab": {
          "base_uri": "https://localhost:8080/"
        },
        "id": "6uzYnV6GMf4z",
        "outputId": "65bf2a7b-4228-40ac-80e2-e462742bf8e7"
      },
      "execution_count": null,
      "outputs": [
        {
          "output_type": "execute_result",
          "data": {
            "text/plain": [
              "(40, 40, 10, 10)"
            ]
          },
          "metadata": {},
          "execution_count": 91
        }
      ]
    },
    {
      "cell_type": "code",
      "source": [
        "def plot_predictions(train_data = X_train,\n",
        "                     train_labels = y_train,\n",
        "                     test_data = X_test,\n",
        "                     test_labels = y_test,\n",
        "                     predictions = None):\n",
        "  plt.figure(figsize = (10,7))\n",
        "  plt.scatter(train_data,train_labels , c='b',s=4,label = 'Training data')\n",
        "  plt.scatter(test_data,test_labels,c='g',s=4,label='Testing data')\n",
        "  if predictions is not None:\n",
        "    plt.scatter(test_data,predictions,c='r',s=4,label='Predictions')\n",
        "  plt.legend(prop={'size':14})\n"
      ],
      "metadata": {
        "id": "g8jRW6y3PBRj"
      },
      "execution_count": null,
      "outputs": []
    },
    {
      "cell_type": "code",
      "source": [
        "plot_predictions()"
      ],
      "metadata": {
        "colab": {
          "base_uri": "https://localhost:8080/",
          "height": 599
        },
        "id": "IiQll-bOSquc",
        "outputId": "9ddde39a-78a4-41ea-c7df-01c64d29e446"
      },
      "execution_count": null,
      "outputs": [
        {
          "output_type": "display_data",
          "data": {
            "text/plain": [
              "<Figure size 1000x700 with 1 Axes>"
            ],
            "image/png": "[encoded data removed]"
          },
          "metadata": {}
        }
      ]
    },
    {
      "cell_type": "code",
      "source": [
        "from torch import nn\n",
        "class LinearRegressionModel(nn.Module):\n",
        "  def __init__(self):\n",
        "    super().__init__()\n",
        "    self.weights = nn.Parameter(torch.randn(1,\n",
        "                                            requires_grad = True,\n",
        "                                            dtype = torch.float))\n",
        "    self.bias = nn.Parameter(torch.randn(1,\n",
        "                                         requires_grad = True,\n",
        "                                         dtype = torch.float))\n",
        "  def forward(self,x:torch.Tensor) -> torch.Tensor:\n",
        "    return self.weights * x + self.bias"
      ],
      "metadata": {
        "id": "kt2F198pTOPW"
      },
      "execution_count": null,
      "outputs": []
    },
    {
      "cell_type": "code",
      "source": [
        "torch.manual_seed(42)\n",
        "model_0 = LinearRegressionModel()\n",
        "model_0.state_dict()"
      ],
      "metadata": {
        "colab": {
          "base_uri": "https://localhost:8080/"
        },
        "id": "H5sqVIGPdGJU",
        "outputId": "aa284cef-c172-44b7-a7d9-a2fc0584df41"
      },
      "execution_count": null,
      "outputs": [
        {
          "output_type": "execute_result",
          "data": {
            "text/plain": [
              "OrderedDict([('weights', tensor([0.3367])), ('bias', tensor([0.1288]))])"
            ]
          },
          "metadata": {},
          "execution_count": 107
        }
      ]
    },
    {
      "cell_type": "code",
      "source": [
        "with torch.inference_mode():# the use of inference here is to turn of grad, using this we can make workflow efficient.\n",
        "  y_preds = model_0(X_test)\n",
        "y_preds"
      ],
      "metadata": {
        "colab": {
          "base_uri": "https://localhost:8080/"
        },
        "id": "q4kB6qLLdRYS",
        "outputId": "81c851fa-9eeb-4221-b7ca-c30694795587"
      },
      "execution_count": null,
      "outputs": [
        {
          "output_type": "execute_result",
          "data": {
            "text/plain": [
              "tensor([[0.3982],\n",
              "        [0.4049],\n",
              "        [0.4116],\n",
              "        [0.4184],\n",
              "        [0.4251],\n",
              "        [0.4318],\n",
              "        [0.4386],\n",
              "        [0.4453],\n",
              "        [0.4520],\n",
              "        [0.4588]])"
            ]
          },
          "metadata": {},
          "execution_count": 108
        }
      ]
    },
    {
      "cell_type": "code",
      "source": [
        "plot_predictions(predictions = y_preds)"
      ],
      "metadata": {
        "colab": {
          "base_uri": "https://localhost:8080/",
          "height": 599
        },
        "id": "EON-Q2MXewJ5",
        "outputId": "a25e582c-c88b-40ba-b446-947f6bd50e34"
      },
      "execution_count": null,
      "outputs": [
        {
          "output_type": "display_data",
          "data": {
            "text/plain": [
              "<Figure size 1000x700 with 1 Axes>"
            ],
            "image/png": "[encoded data removed]"
          },
          "metadata": {}
        }
      ]
    },
    {
      "cell_type": "code",
      "source": [
        "y_test - y_preds"
      ],
      "metadata": {
        "colab": {
          "base_uri": "https://localhost:8080/"
        },
        "id": "22smCqxsfBiQ",
        "outputId": "ca8d7361-9d76-45d9-e0f9-5a6437417a9c"
      },
      "execution_count": null,
      "outputs": [
        {
          "output_type": "execute_result",
          "data": {
            "text/plain": [
              "tensor([[0.4618],\n",
              "        [0.4691],\n",
              "        [0.4764],\n",
              "        [0.4836],\n",
              "        [0.4909],\n",
              "        [0.4982],\n",
              "        [0.5054],\n",
              "        [0.5127],\n",
              "        [0.5200],\n",
              "        [0.5272]])"
            ]
          },
          "metadata": {},
          "execution_count": 110
        }
      ]
    },
    {
      "cell_type": "code",
      "source": [
        "loss = nn.L1Loss()\n",
        "optimizer =   torch.optim.SGD(params = model_0.parameters(),lr = 0.01)"
      ],
      "metadata": {
        "id": "5tMjbBWekwfY"
      },
      "execution_count": null,
      "outputs": []
    },
    {
      "cell_type": "code",
      "source": [
        "torch.manual_seed(42)\n",
        "epochs = 200\n",
        "epochs_list = []\n",
        "loss_list = []\n",
        "test_loss_list = []\n",
        "for epoch in range(epochs):\n",
        "  model_0.train()\n",
        "  y_pred = model_0(X_train)#forward pass\n",
        "  loss_fn = loss(y_pred,y_train)\n",
        "  print(f\"loss:\", loss_fn)\n",
        "  optimizer.zero_grad()\n",
        "  loss_fn.backward()\n",
        "  optimizer.step()\n",
        "  model_0.eval()\n",
        "  with torch.inference_mode():\n",
        "    test_pred = model_0(X_test)\n",
        "    test_loss = loss(test_pred,y_test)\n",
        "  if epoch % 10 == 0:\n",
        "    epochs_list.append(epoch)\n",
        "    loss_list.append(loss_fn)\n",
        "    test_loss_list.append(test_loss)\n",
        "    print(f\"Epoch: {epoch} | Loss: {loss_fn} | Test loss: {test_loss}\")\n",
        "    print(model_0.state_dict())"
      ],
      "metadata": {
        "colab": {
          "base_uri": "https://localhost:8080/"
        },
        "id": "spjAFmXzdrM-",
        "outputId": "3ecff47a-b698-4c6c-9daa-fc99dae650d2"
      },
      "execution_count": null,
      "outputs": [
        {
          "output_type": "stream",
          "name": "stdout",
          "text": [
            "loss: tensor(0.3129, grad_fn=<MeanBackward0>)\n",
            "Epoch: 0 | Loss: 0.31288138031959534 | Test loss: 0.48106518387794495\n",
            "OrderedDict([('weights', tensor([0.3406])), ('bias', tensor([0.1388]))])\n",
            "loss: tensor(0.3014, grad_fn=<MeanBackward0>)\n",
            "loss: tensor(0.2898, grad_fn=<MeanBackward0>)\n",
            "loss: tensor(0.2783, grad_fn=<MeanBackward0>)\n",
            "loss: tensor(0.2668, grad_fn=<MeanBackward0>)\n",
            "loss: tensor(0.2553, grad_fn=<MeanBackward0>)\n",
            "loss: tensor(0.2438, grad_fn=<MeanBackward0>)\n",
            "loss: tensor(0.2322, grad_fn=<MeanBackward0>)\n",
            "loss: tensor(0.2207, grad_fn=<MeanBackward0>)\n",
            "loss: tensor(0.2092, grad_fn=<MeanBackward0>)\n",
            "loss: tensor(0.1977, grad_fn=<MeanBackward0>)\n",
            "Epoch: 10 | Loss: 0.1976713240146637 | Test loss: 0.3463551998138428\n",
            "OrderedDict([('weights', tensor([0.3796])), ('bias', tensor([0.2388]))])\n",
            "loss: tensor(0.1862, grad_fn=<MeanBackward0>)\n",
            "loss: tensor(0.1746, grad_fn=<MeanBackward0>)\n",
            "loss: tensor(0.1631, grad_fn=<MeanBackward0>)\n",
            "loss: tensor(0.1516, grad_fn=<MeanBackward0>)\n",
            "loss: tensor(0.1401, grad_fn=<MeanBackward0>)\n",
            "loss: tensor(0.1285, grad_fn=<MeanBackward0>)\n",
            "loss: tensor(0.1170, grad_fn=<MeanBackward0>)\n",
            "loss: tensor(0.1061, grad_fn=<MeanBackward0>)\n",
            "loss: tensor(0.0968, grad_fn=<MeanBackward0>)\n",
            "loss: tensor(0.0891, grad_fn=<MeanBackward0>)\n",
            "Epoch: 20 | Loss: 0.08908725529909134 | Test loss: 0.21729660034179688\n",
            "OrderedDict([('weights', tensor([0.4184])), ('bias', tensor([0.3333]))])\n",
            "loss: tensor(0.0823, grad_fn=<MeanBackward0>)\n",
            "loss: tensor(0.0764, grad_fn=<MeanBackward0>)\n",
            "loss: tensor(0.0716, grad_fn=<MeanBackward0>)\n",
            "loss: tensor(0.0675, grad_fn=<MeanBackward0>)\n",
            "loss: tensor(0.0640, grad_fn=<MeanBackward0>)\n",
            "loss: tensor(0.0610, grad_fn=<MeanBackward0>)\n",
            "loss: tensor(0.0585, grad_fn=<MeanBackward0>)\n",
            "loss: tensor(0.0564, grad_fn=<MeanBackward0>)\n",
            "loss: tensor(0.0546, grad_fn=<MeanBackward0>)\n",
            "loss: tensor(0.0531, grad_fn=<MeanBackward0>)\n",
            "Epoch: 30 | Loss: 0.053148526698350906 | Test loss: 0.14464017748832703\n",
            "OrderedDict([('weights', tensor([0.4512])), ('bias', tensor([0.3768]))])\n",
            "loss: tensor(0.0518, grad_fn=<MeanBackward0>)\n",
            "loss: tensor(0.0507, grad_fn=<MeanBackward0>)\n",
            "loss: tensor(0.0498, grad_fn=<MeanBackward0>)\n",
            "loss: tensor(0.0490, grad_fn=<MeanBackward0>)\n",
            "loss: tensor(0.0482, grad_fn=<MeanBackward0>)\n",
            "loss: tensor(0.0475, grad_fn=<MeanBackward0>)\n",
            "loss: tensor(0.0469, grad_fn=<MeanBackward0>)\n",
            "loss: tensor(0.0464, grad_fn=<MeanBackward0>)\n",
            "loss: tensor(0.0459, grad_fn=<MeanBackward0>)\n",
            "loss: tensor(0.0454, grad_fn=<MeanBackward0>)\n",
            "Epoch: 40 | Loss: 0.04543796554207802 | Test loss: 0.11360953003168106\n",
            "OrderedDict([('weights', tensor([0.4748])), ('bias', tensor([0.3868]))])\n",
            "loss: tensor(0.0450, grad_fn=<MeanBackward0>)\n",
            "loss: tensor(0.0446, grad_fn=<MeanBackward0>)\n",
            "loss: tensor(0.0442, grad_fn=<MeanBackward0>)\n",
            "loss: tensor(0.0438, grad_fn=<MeanBackward0>)\n",
            "loss: tensor(0.0434, grad_fn=<MeanBackward0>)\n",
            "loss: tensor(0.0431, grad_fn=<MeanBackward0>)\n",
            "loss: tensor(0.0427, grad_fn=<MeanBackward0>)\n",
            "loss: tensor(0.0424, grad_fn=<MeanBackward0>)\n",
            "loss: tensor(0.0420, grad_fn=<MeanBackward0>)\n",
            "loss: tensor(0.0417, grad_fn=<MeanBackward0>)\n",
            "Epoch: 50 | Loss: 0.04167863354086876 | Test loss: 0.09919948130846024\n",
            "OrderedDict([('weights', tensor([0.4938])), ('bias', tensor([0.3843]))])\n",
            "loss: tensor(0.0413, grad_fn=<MeanBackward0>)\n",
            "loss: tensor(0.0410, grad_fn=<MeanBackward0>)\n",
            "loss: tensor(0.0406, grad_fn=<MeanBackward0>)\n",
            "loss: tensor(0.0403, grad_fn=<MeanBackward0>)\n",
            "loss: tensor(0.0399, grad_fn=<MeanBackward0>)\n",
            "loss: tensor(0.0396, grad_fn=<MeanBackward0>)\n",
            "loss: tensor(0.0392, grad_fn=<MeanBackward0>)\n",
            "loss: tensor(0.0389, grad_fn=<MeanBackward0>)\n",
            "loss: tensor(0.0385, grad_fn=<MeanBackward0>)\n",
            "loss: tensor(0.0382, grad_fn=<MeanBackward0>)\n",
            "Epoch: 60 | Loss: 0.03818932920694351 | Test loss: 0.08886633068323135\n",
            "OrderedDict([('weights', tensor([0.5116])), ('bias', tensor([0.3788]))])\n",
            "loss: tensor(0.0379, grad_fn=<MeanBackward0>)\n",
            "loss: tensor(0.0375, grad_fn=<MeanBackward0>)\n",
            "loss: tensor(0.0372, grad_fn=<MeanBackward0>)\n",
            "loss: tensor(0.0368, grad_fn=<MeanBackward0>)\n",
            "loss: tensor(0.0365, grad_fn=<MeanBackward0>)\n",
            "loss: tensor(0.0361, grad_fn=<MeanBackward0>)\n",
            "loss: tensor(0.0358, grad_fn=<MeanBackward0>)\n",
            "loss: tensor(0.0354, grad_fn=<MeanBackward0>)\n",
            "loss: tensor(0.0351, grad_fn=<MeanBackward0>)\n",
            "loss: tensor(0.0348, grad_fn=<MeanBackward0>)\n",
            "Epoch: 70 | Loss: 0.03476089984178543 | Test loss: 0.0805937647819519\n",
            "OrderedDict([('weights', tensor([0.5288])), ('bias', tensor([0.3718]))])\n",
            "loss: tensor(0.0344, grad_fn=<MeanBackward0>)\n",
            "loss: tensor(0.0341, grad_fn=<MeanBackward0>)\n",
            "loss: tensor(0.0337, grad_fn=<MeanBackward0>)\n",
            "loss: tensor(0.0334, grad_fn=<MeanBackward0>)\n",
            "loss: tensor(0.0330, grad_fn=<MeanBackward0>)\n",
            "loss: tensor(0.0327, grad_fn=<MeanBackward0>)\n",
            "loss: tensor(0.0324, grad_fn=<MeanBackward0>)\n",
            "loss: tensor(0.0320, grad_fn=<MeanBackward0>)\n",
            "loss: tensor(0.0317, grad_fn=<MeanBackward0>)\n",
            "loss: tensor(0.0313, grad_fn=<MeanBackward0>)\n",
            "Epoch: 80 | Loss: 0.03132382780313492 | Test loss: 0.07232122868299484\n",
            "OrderedDict([('weights', tensor([0.5459])), ('bias', tensor([0.3648]))])\n",
            "loss: tensor(0.0310, grad_fn=<MeanBackward0>)\n",
            "loss: tensor(0.0306, grad_fn=<MeanBackward0>)\n",
            "loss: tensor(0.0303, grad_fn=<MeanBackward0>)\n",
            "loss: tensor(0.0300, grad_fn=<MeanBackward0>)\n",
            "loss: tensor(0.0296, grad_fn=<MeanBackward0>)\n",
            "loss: tensor(0.0293, grad_fn=<MeanBackward0>)\n",
            "loss: tensor(0.0289, grad_fn=<MeanBackward0>)\n",
            "loss: tensor(0.0286, grad_fn=<MeanBackward0>)\n",
            "loss: tensor(0.0282, grad_fn=<MeanBackward0>)\n",
            "loss: tensor(0.0279, grad_fn=<MeanBackward0>)\n",
            "Epoch: 90 | Loss: 0.02788739837706089 | Test loss: 0.06473556160926819\n",
            "OrderedDict([('weights', tensor([0.5629])), ('bias', tensor([0.3573]))])\n",
            "loss: tensor(0.0275, grad_fn=<MeanBackward0>)\n",
            "loss: tensor(0.0272, grad_fn=<MeanBackward0>)\n",
            "loss: tensor(0.0269, grad_fn=<MeanBackward0>)\n",
            "loss: tensor(0.0265, grad_fn=<MeanBackward0>)\n",
            "loss: tensor(0.0262, grad_fn=<MeanBackward0>)\n",
            "loss: tensor(0.0258, grad_fn=<MeanBackward0>)\n",
            "loss: tensor(0.0255, grad_fn=<MeanBackward0>)\n",
            "loss: tensor(0.0251, grad_fn=<MeanBackward0>)\n",
            "loss: tensor(0.0248, grad_fn=<MeanBackward0>)\n",
            "loss: tensor(0.0245, grad_fn=<MeanBackward0>)\n",
            "Epoch: 100 | Loss: 0.024458957836031914 | Test loss: 0.05646304413676262\n",
            "OrderedDict([('weights', tensor([0.5800])), ('bias', tensor([0.3503]))])\n",
            "loss: tensor(0.0241, grad_fn=<MeanBackward0>)\n",
            "loss: tensor(0.0238, grad_fn=<MeanBackward0>)\n",
            "loss: tensor(0.0234, grad_fn=<MeanBackward0>)\n",
            "loss: tensor(0.0231, grad_fn=<MeanBackward0>)\n",
            "loss: tensor(0.0227, grad_fn=<MeanBackward0>)\n",
            "loss: tensor(0.0224, grad_fn=<MeanBackward0>)\n",
            "loss: tensor(0.0221, grad_fn=<MeanBackward0>)\n",
            "loss: tensor(0.0217, grad_fn=<MeanBackward0>)\n",
            "loss: tensor(0.0214, grad_fn=<MeanBackward0>)\n",
            "loss: tensor(0.0210, grad_fn=<MeanBackward0>)\n",
            "Epoch: 110 | Loss: 0.021020207554101944 | Test loss: 0.04819049686193466\n",
            "OrderedDict([('weights', tensor([0.5972])), ('bias', tensor([0.3433]))])\n",
            "loss: tensor(0.0207, grad_fn=<MeanBackward0>)\n",
            "loss: tensor(0.0203, grad_fn=<MeanBackward0>)\n",
            "loss: tensor(0.0200, grad_fn=<MeanBackward0>)\n",
            "loss: tensor(0.0196, grad_fn=<MeanBackward0>)\n",
            "loss: tensor(0.0193, grad_fn=<MeanBackward0>)\n",
            "loss: tensor(0.0190, grad_fn=<MeanBackward0>)\n",
            "loss: tensor(0.0186, grad_fn=<MeanBackward0>)\n",
            "loss: tensor(0.0183, grad_fn=<MeanBackward0>)\n",
            "loss: tensor(0.0179, grad_fn=<MeanBackward0>)\n",
            "loss: tensor(0.0176, grad_fn=<MeanBackward0>)\n",
            "Epoch: 120 | Loss: 0.01758546568453312 | Test loss: 0.04060482233762741\n",
            "OrderedDict([('weights', tensor([0.6141])), ('bias', tensor([0.3358]))])\n",
            "loss: tensor(0.0172, grad_fn=<MeanBackward0>)\n",
            "loss: tensor(0.0169, grad_fn=<MeanBackward0>)\n",
            "loss: tensor(0.0166, grad_fn=<MeanBackward0>)\n",
            "loss: tensor(0.0162, grad_fn=<MeanBackward0>)\n",
            "loss: tensor(0.0159, grad_fn=<MeanBackward0>)\n",
            "loss: tensor(0.0155, grad_fn=<MeanBackward0>)\n",
            "loss: tensor(0.0152, grad_fn=<MeanBackward0>)\n",
            "loss: tensor(0.0148, grad_fn=<MeanBackward0>)\n",
            "loss: tensor(0.0145, grad_fn=<MeanBackward0>)\n",
            "loss: tensor(0.0142, grad_fn=<MeanBackward0>)\n",
            "Epoch: 130 | Loss: 0.014155393466353416 | Test loss: 0.03233227878808975\n",
            "OrderedDict([('weights', tensor([0.6313])), ('bias', tensor([0.3288]))])\n",
            "loss: tensor(0.0138, grad_fn=<MeanBackward0>)\n",
            "loss: tensor(0.0135, grad_fn=<MeanBackward0>)\n",
            "loss: tensor(0.0131, grad_fn=<MeanBackward0>)\n",
            "loss: tensor(0.0128, grad_fn=<MeanBackward0>)\n",
            "loss: tensor(0.0124, grad_fn=<MeanBackward0>)\n",
            "loss: tensor(0.0121, grad_fn=<MeanBackward0>)\n",
            "loss: tensor(0.0118, grad_fn=<MeanBackward0>)\n",
            "loss: tensor(0.0114, grad_fn=<MeanBackward0>)\n",
            "loss: tensor(0.0111, grad_fn=<MeanBackward0>)\n",
            "loss: tensor(0.0107, grad_fn=<MeanBackward0>)\n",
            "Epoch: 140 | Loss: 0.010716589167714119 | Test loss: 0.024059748277068138\n",
            "OrderedDict([('weights', tensor([0.6485])), ('bias', tensor([0.3218]))])\n",
            "loss: tensor(0.0104, grad_fn=<MeanBackward0>)\n",
            "loss: tensor(0.0100, grad_fn=<MeanBackward0>)\n",
            "loss: tensor(0.0097, grad_fn=<MeanBackward0>)\n",
            "loss: tensor(0.0093, grad_fn=<MeanBackward0>)\n",
            "loss: tensor(0.0090, grad_fn=<MeanBackward0>)\n",
            "loss: tensor(0.0087, grad_fn=<MeanBackward0>)\n",
            "loss: tensor(0.0083, grad_fn=<MeanBackward0>)\n",
            "loss: tensor(0.0080, grad_fn=<MeanBackward0>)\n",
            "loss: tensor(0.0076, grad_fn=<MeanBackward0>)\n",
            "loss: tensor(0.0073, grad_fn=<MeanBackward0>)\n",
            "Epoch: 150 | Loss: 0.0072835334576666355 | Test loss: 0.016474086791276932\n",
            "OrderedDict([('weights', tensor([0.6654])), ('bias', tensor([0.3143]))])\n",
            "loss: tensor(0.0069, grad_fn=<MeanBackward0>)\n",
            "loss: tensor(0.0066, grad_fn=<MeanBackward0>)\n",
            "loss: tensor(0.0063, grad_fn=<MeanBackward0>)\n",
            "loss: tensor(0.0059, grad_fn=<MeanBackward0>)\n",
            "loss: tensor(0.0056, grad_fn=<MeanBackward0>)\n",
            "loss: tensor(0.0052, grad_fn=<MeanBackward0>)\n",
            "loss: tensor(0.0049, grad_fn=<MeanBackward0>)\n",
            "loss: tensor(0.0045, grad_fn=<MeanBackward0>)\n",
            "loss: tensor(0.0042, grad_fn=<MeanBackward0>)\n",
            "loss: tensor(0.0039, grad_fn=<MeanBackward0>)\n",
            "Epoch: 160 | Loss: 0.0038517764769494534 | Test loss: 0.008201557211577892\n",
            "OrderedDict([('weights', tensor([0.6826])), ('bias', tensor([0.3073]))])\n",
            "loss: tensor(0.0035, grad_fn=<MeanBackward0>)\n",
            "loss: tensor(0.0032, grad_fn=<MeanBackward0>)\n",
            "loss: tensor(0.0028, grad_fn=<MeanBackward0>)\n",
            "loss: tensor(0.0025, grad_fn=<MeanBackward0>)\n",
            "loss: tensor(0.0021, grad_fn=<MeanBackward0>)\n",
            "loss: tensor(0.0018, grad_fn=<MeanBackward0>)\n",
            "loss: tensor(0.0015, grad_fn=<MeanBackward0>)\n",
            "loss: tensor(0.0012, grad_fn=<MeanBackward0>)\n",
            "loss: tensor(0.0026, grad_fn=<MeanBackward0>)\n",
            "loss: tensor(0.0089, grad_fn=<MeanBackward0>)\n",
            "Epoch: 170 | Loss: 0.008932482451200485 | Test loss: 0.005023092031478882\n",
            "OrderedDict([('weights', tensor([0.6951])), ('bias', tensor([0.2993]))])\n",
            "loss: tensor(0.0026, grad_fn=<MeanBackward0>)\n",
            "loss: tensor(0.0089, grad_fn=<MeanBackward0>)\n",
            "loss: tensor(0.0026, grad_fn=<MeanBackward0>)\n",
            "loss: tensor(0.0089, grad_fn=<MeanBackward0>)\n",
            "loss: tensor(0.0026, grad_fn=<MeanBackward0>)\n",
            "loss: tensor(0.0089, grad_fn=<MeanBackward0>)\n",
            "loss: tensor(0.0026, grad_fn=<MeanBackward0>)\n",
            "loss: tensor(0.0089, grad_fn=<MeanBackward0>)\n",
            "loss: tensor(0.0026, grad_fn=<MeanBackward0>)\n",
            "loss: tensor(0.0089, grad_fn=<MeanBackward0>)\n",
            "Epoch: 180 | Loss: 0.008932482451200485 | Test loss: 0.005023092031478882\n",
            "OrderedDict([('weights', tensor([0.6951])), ('bias', tensor([0.2993]))])\n",
            "loss: tensor(0.0026, grad_fn=<MeanBackward0>)\n",
            "loss: tensor(0.0089, grad_fn=<MeanBackward0>)\n",
            "loss: tensor(0.0026, grad_fn=<MeanBackward0>)\n",
            "loss: tensor(0.0089, grad_fn=<MeanBackward0>)\n",
            "loss: tensor(0.0026, grad_fn=<MeanBackward0>)\n",
            "loss: tensor(0.0089, grad_fn=<MeanBackward0>)\n",
            "loss: tensor(0.0026, grad_fn=<MeanBackward0>)\n",
            "loss: tensor(0.0089, grad_fn=<MeanBackward0>)\n",
            "loss: tensor(0.0026, grad_fn=<MeanBackward0>)\n",
            "loss: tensor(0.0089, grad_fn=<MeanBackward0>)\n",
            "Epoch: 190 | Loss: 0.008932482451200485 | Test loss: 0.005023092031478882\n",
            "OrderedDict([('weights', tensor([0.6951])), ('bias', tensor([0.2993]))])\n",
            "loss: tensor(0.0026, grad_fn=<MeanBackward0>)\n",
            "loss: tensor(0.0089, grad_fn=<MeanBackward0>)\n",
            "loss: tensor(0.0026, grad_fn=<MeanBackward0>)\n",
            "loss: tensor(0.0089, grad_fn=<MeanBackward0>)\n",
            "loss: tensor(0.0026, grad_fn=<MeanBackward0>)\n",
            "loss: tensor(0.0089, grad_fn=<MeanBackward0>)\n",
            "loss: tensor(0.0026, grad_fn=<MeanBackward0>)\n",
            "loss: tensor(0.0089, grad_fn=<MeanBackward0>)\n",
            "loss: tensor(0.0026, grad_fn=<MeanBackward0>)\n"
          ]
        }
      ]
    },
    {
      "cell_type": "code",
      "source": [
        "import numpy as np\n",
        "plt.plot(epochs_list,np.array(torch.tensor(loss_list).numpy()),label='Training loss')\n",
        "plt.plot(epochs_list,test_loss_list,label='Test loss')\n",
        "plt.title('Training and test loss curves')\n",
        "plt.ylabel('Loss')\n",
        "plt.xlabel('Epochs')\n",
        "plt.legend()"
      ],
      "metadata": {
        "colab": {
          "base_uri": "https://localhost:8080/",
          "height": 490
        },
        "id": "iUxFR0tou7Wm",
        "outputId": "5bf9d1af-0743-4730-9ac1-d38f4eccc767"
      },
      "execution_count": null,
      "outputs": [
        {
          "output_type": "execute_result",
          "data": {
            "text/plain": [
              "<matplotlib.legend.Legend at 0x7decb44e1c10>"
            ]
          },
          "metadata": {},
          "execution_count": 116
        },
        {
          "output_type": "display_data",
          "data": {
            "text/plain": [
              "<Figure size 640x480 with 1 Axes>"
            ],
            "image/png": "[encoded data removed]"
          },
          "metadata": {}
        }
      ]
    },
    {
      "cell_type": "code",
      "source": [
        "plot_predictions(predictions = test_pred)"
      ],
      "metadata": {
        "colab": {
          "base_uri": "https://localhost:8080/",
          "height": 599
        },
        "id": "Uyv88ICUnQAx",
        "outputId": "98815a10-72dc-4bc0-fe5a-2ef15b868c0d"
      },
      "execution_count": null,
      "outputs": [
        {
          "output_type": "display_data",
          "data": {
            "text/plain": [
              "<Figure size 1000x700 with 1 Axes>"
            ],
            "image/png": "[encoded data removed]"
          },
          "metadata": {}
        }
      ]
    },
    {
      "cell_type": "code",
      "source": [
        "model_0.state_dict()"
      ],
      "metadata": {
        "colab": {
          "base_uri": "https://localhost:8080/"
        },
        "id": "NsTP2NxKnRfw",
        "outputId": "fe6c295d-4da2-4c2c-ff2b-5b683549ac89"
      },
      "execution_count": null,
      "outputs": [
        {
          "output_type": "execute_result",
          "data": {
            "text/plain": [
              "OrderedDict([('weights', tensor([0.6990])), ('bias', tensor([0.3093]))])"
            ]
          },
          "metadata": {},
          "execution_count": 117
        }
      ]
    },
    {
      "cell_type": "code",
      "source": [
        "from pathlib import Path\n",
        "MODEL_PATH = Path('models')\n",
        "MODEL_PATH.mkdir(parents=True,exist_ok=True)\n",
        "MODEL_NAME = '01_pytorch_workflow_model_0.pth'\n",
        "MODEL_SAVE_PATH = MODEL_PATH / MODEL_NAME\n",
        "torch.save(obj = model_0.state_dict(),f = MODEL_SAVE_PATH)"
      ],
      "metadata": {
        "id": "_svHyHL7wswY"
      },
      "execution_count": null,
      "outputs": []
    },
    {
      "cell_type": "code",
      "source": [
        "loaded_model = LinearRegressionModel()\n",
        "loaded_model.load_state_dict(torch.load(MODEL_SAVE_PATH))"
      ],
      "metadata": {
        "colab": {
          "base_uri": "https://localhost:8080/"
        },
        "id": "1sNt8QKhyXQc",
        "outputId": "cd15399f-38ba-471d-e57e-3debca94ae09"
      },
      "execution_count": null,
      "outputs": [
        {
          "output_type": "stream",
          "name": "stderr",
          "text": [
            "<ipython-input-119-f8c095e93af7>:2: FutureWarning: You are using `torch.load` with `weights_only=False` (the current default value), which uses the default pickle module implicitly. It is possible to construct malicious pickle data which will execute arbitrary code during unpickling (See https://github.com/pytorch/pytorch/blob/main/SECURITY.md#untrusted-models for more details). In a future release, the default value for `weights_only` will be flipped to `True`. This limits the functions that could be executed during unpickling. Arbitrary objects will no longer be allowed to be loaded via this mode unless they are explicitly allowlisted by the user via `torch.serialization.add_safe_globals`. We recommend you start setting `weights_only=True` for any use case where you don't have full control of the loaded file. Please open an issue on GitHub for any issues related to this experimental feature.\n",
            "  loaded_model.load_state_dict(torch.load(MODEL_SAVE_PATH))\n"
          ]
        },
        {
          "output_type": "execute_result",
          "data": {
            "text/plain": [
              "<All keys matched successfully>"
            ]
          },
          "metadata": {},
          "execution_count": 119
        }
      ]
    },
    {
      "cell_type": "code",
      "source": [
        "loaded_model.state_dict()"
      ],
      "metadata": {
        "colab": {
          "base_uri": "https://localhost:8080/"
        },
        "id": "_3k7dnC7zsqp",
        "outputId": "d2e767c5-3fec-4986-df3b-016966ee8abf"
      },
      "execution_count": null,
      "outputs": [
        {
          "output_type": "execute_result",
          "data": {
            "text/plain": [
              "OrderedDict([('weights', tensor([0.6990])), ('bias', tensor([0.3093]))])"
            ]
          },
          "metadata": {},
          "execution_count": 120
        }
      ]
    },
    {
      "cell_type": "code",
      "source": [
        "loaded_model.eval()\n",
        "with torch.inference_mode():\n",
        "  loaded_model_preds = loaded_model(X_test)\n",
        "loaded_model_preds"
      ],
      "metadata": {
        "colab": {
          "base_uri": "https://localhost:8080/"
        },
        "id": "9Veq4-WRzutK",
        "outputId": "82af5662-ecd5-4d51-a480-ff7a16816a2a"
      },
      "execution_count": null,
      "outputs": [
        {
          "output_type": "execute_result",
          "data": {
            "text/plain": [
              "tensor([[0.8685],\n",
              "        [0.8825],\n",
              "        [0.8965],\n",
              "        [0.9105],\n",
              "        [0.9245],\n",
              "        [0.9384],\n",
              "        [0.9524],\n",
              "        [0.9664],\n",
              "        [0.9804],\n",
              "        [0.9944]])"
            ]
          },
          "metadata": {},
          "execution_count": 121
        }
      ]
    },
    {
      "cell_type": "code",
      "source": [
        "model_0.eval()\n",
        "with torch.inference_mode():\n",
        "  y_preds = model_0(X_test)\n",
        "y_preds"
      ],
      "metadata": {
        "colab": {
          "base_uri": "https://localhost:8080/"
        },
        "id": "Pvz2JsFGzxg9",
        "outputId": "86dbf48e-4ca3-466a-d0ec-8643fe260a1d"
      },
      "execution_count": null,
      "outputs": [
        {
          "output_type": "execute_result",
          "data": {
            "text/plain": [
              "tensor([[0.8685],\n",
              "        [0.8825],\n",
              "        [0.8965],\n",
              "        [0.9105],\n",
              "        [0.9245],\n",
              "        [0.9384],\n",
              "        [0.9524],\n",
              "        [0.9664],\n",
              "        [0.9804],\n",
              "        [0.9944]])"
            ]
          },
          "metadata": {},
          "execution_count": 123
        }
      ]
    },
    {
      "cell_type": "code",
      "source": [
        "y_preds == loaded_model_preds\n"
      ],
      "metadata": {
        "colab": {
          "base_uri": "https://localhost:8080/"
        },
        "id": "SnPZvF44z1-w",
        "outputId": "1ee2052e-7aa3-4a97-b8cf-38b7f9965590"
      },
      "execution_count": null,
      "outputs": [
        {
          "output_type": "execute_result",
          "data": {
            "text/plain": [
              "tensor([[True],\n",
              "        [True],\n",
              "        [True],\n",
              "        [True],\n",
              "        [True],\n",
              "        [True],\n",
              "        [True],\n",
              "        [True],\n",
              "        [True],\n",
              "        [True]])"
            ]
          },
          "metadata": {},
          "execution_count": 126
        }
      ]
    },
    {
      "cell_type": "code",
      "source": [],
      "metadata": {
        "id": "k5Ns2ENL0Thl"
      },
      "execution_count": null,
      "outputs": []
    }
  ]
}